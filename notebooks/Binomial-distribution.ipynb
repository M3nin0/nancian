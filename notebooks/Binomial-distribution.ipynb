{
 "cells": [
  {
   "cell_type": "code",
   "execution_count": 2,
   "metadata": {},
   "outputs": [
    {
     "name": "stdout",
     "output_type": "stream",
     "text": [
      "A propabilidade de que o evento se realize 2 vezes em 5 é de 0.16460905349794244\n",
      "ou 16.46%\n"
     ]
    }
   ],
   "source": [
    "import os\n",
    "os.chdir('..')\n",
    "\n",
    "from nancian.distribution.arguments import Binomial\n",
    "from nancian.distribution.binomial_distribution import BinomialDistribution\n",
    "\n",
    "distribution = Binomial()\n",
    "\n",
    "distribution.p = 2 / 3\n",
    "distribution.q = 1 - 2 / 3\n",
    "distribution.n = 5\n",
    "distribution.k = 2\n",
    "\n",
    "distribuicaoBinomial = BinomialDistribution(distribution)\n",
    "print(distribuicaoBinomial.calcula())\n"
   ]
  }
 ],
 "metadata": {
  "kernelspec": {
   "display_name": "Python 3",
   "language": "python",
   "name": "python3"
  },
  "language_info": {
   "codemirror_mode": {
    "name": "ipython",
    "version": 3
   },
   "file_extension": ".py",
   "mimetype": "text/x-python",
   "name": "python",
   "nbconvert_exporter": "python",
   "pygments_lexer": "ipython3",
   "version": "3.6.5"
  }
 },
 "nbformat": 4,
 "nbformat_minor": 2
}
