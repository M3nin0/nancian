{
 "cells": [
  {
   "cell_type": "code",
   "execution_count": 1,
   "metadata": {},
   "outputs": [],
   "source": [
    "import os\n",
    "os.chdir('..')\n",
    "\n",
    "from nancian.distribution.arguments import Binomial\n",
    "from nancian.distribution.binomial_distribution import BinomialDistribution"
   ]
  },
  {
   "cell_type": "code",
   "execution_count": 2,
   "metadata": {},
   "outputs": [
    {
     "name": "stdout",
     "output_type": "stream",
     "text": [
      "A propabilidade de que o evento se realize 2 vezes em 5 é de 0.16460905349794244\n",
      "ou 16.46%\n"
     ]
    }
   ],
   "source": [
    "distribution = Binomial()\n",
    "\n",
    "distribution.p = 2 / 3\n",
    "distribution.q = 1 - 2 / 3\n",
    "distribution.n = 5\n",
    "distribution.k = 2\n",
    "\n",
    "distribuicaoBinomial = BinomialDistribution(distribution)\n",
    "print(distribuicaoBinomial.calcula())\n"
   ]
  },
  {
   "cell_type": "code",
   "execution_count": 3,
   "metadata": {},
   "outputs": [
    {
     "name": "stdout",
     "output_type": "stream",
     "text": [
      "A propabilidade de que o evento se realize 4 vezes em 5 é de 1.441853376009755\n",
      "ou 144.19%\n"
     ]
    }
   ],
   "source": [
    "print(distribuicaoBinomial.calculaMenorQue(0, 5))"
   ]
  },
  {
   "cell_type": "code",
   "execution_count": 4,
   "metadata": {},
   "outputs": [
    {
     "name": "stdout",
     "output_type": "stream",
     "text": [
      "A propabilidade de que o evento se realize 3 vezes em 5 é de 0.6950160036579791\n",
      "ou 69.50%\n"
     ]
    }
   ],
   "source": [
    "print(distribuicaoBinomial.calculaMenorIgualQue(1, 3))"
   ]
  },
  {
   "cell_type": "code",
   "execution_count": 5,
   "metadata": {},
   "outputs": [
    {
     "name": "stdout",
     "output_type": "stream",
     "text": [
      "A propabilidade de que o evento se realize 4 vezes em 5 é de 0.701112635269014\n",
      "ou 70.11%\n"
     ]
    }
   ],
   "source": [
    "print(distribuicaoBinomial.calculaMaiorQue(1))"
   ]
  },
  {
   "cell_type": "code",
   "execution_count": 6,
   "metadata": {},
   "outputs": [
    {
     "name": "stdout",
     "output_type": "stream",
     "text": [
      "A propabilidade de que o evento se realize 5 vezes em 5 é de 0.7019255194838186\n",
      "ou 70.19%\n"
     ]
    }
   ],
   "source": [
    "print(distribuicaoBinomial.calculaMaiorIgualQue(1))"
   ]
  },
  {
   "cell_type": "code",
   "execution_count": null,
   "metadata": {},
   "outputs": [],
   "source": []
  }
 ],
 "metadata": {
  "kernelspec": {
   "display_name": "Python 3",
   "language": "python",
   "name": "python3"
  },
  "language_info": {
   "codemirror_mode": {
    "name": "ipython",
    "version": 3
   },
   "file_extension": ".py",
   "mimetype": "text/x-python",
   "name": "python",
   "nbconvert_exporter": "python",
   "pygments_lexer": "ipython3",
   "version": "3.6.5"
  }
 },
 "nbformat": 4,
 "nbformat_minor": 2
}
