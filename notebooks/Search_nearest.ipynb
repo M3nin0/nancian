{
 "cells": [
  {
   "cell_type": "markdown",
   "metadata": {},
   "source": [
    "## Utilitários de busca \n",
    "\n",
    "Neste notebook é apresentado a forma de uso dos utilitários de busca nas tabelas `Student` e `Distribuição normal`"
   ]
  },
  {
   "cell_type": "code",
   "execution_count": 1,
   "metadata": {},
   "outputs": [],
   "source": [
    "import os\n",
    "os.chdir('..')\n",
    "\n",
    "from nancian.table import nearest_neighbors_norm # Utilitário de busca na tabela normal"
   ]
  },
  {
   "cell_type": "markdown",
   "metadata": {},
   "source": [
    "### Busca na tabela de distribuição normal\n",
    "\n",
    "Veja abaixo o uso para encontrar dentro da tabela de distribuição normal o elemento mais próximo ao inserido."
   ]
  },
  {
   "cell_type": "markdown",
   "metadata": {},
   "source": [
    "1° - Para fazer o uso basta inserir o elemento a ser pesquisado e a função retorna o mais próximo. A função utiliza de um cálculo simples de distância entre os elementos para a busca.\n",
    "\n",
    "Seu retorno é um dicionário constituido de: \n",
    "* Column: Nome da coluna onde está o elemento encontrado;\n",
    "* Row: Linha onde está o elemento encontrado;\n",
    "* Distance: Distância entre o elemento inserido e o encontrado;\n",
    "* Neighbor: Valor do elemento encontrado."
   ]
  },
  {
   "cell_type": "code",
   "execution_count": 2,
   "metadata": {
    "scrolled": true
   },
   "outputs": [
    {
     "data": {
      "text/plain": [
       "{'column': '0.01',\n",
       " 'distance': 0.00039999999999995595,\n",
       " 'neighbor': 0.4564,\n",
       " 'row': 19}"
      ]
     },
     "execution_count": 2,
     "metadata": {},
     "output_type": "execute_result"
    }
   ],
   "source": [
    "nearest_neighbors_norm(0.456)"
   ]
  }
 ],
 "metadata": {
  "kernelspec": {
   "display_name": "Python 3",
   "language": "python",
   "name": "python3"
  },
  "language_info": {
   "codemirror_mode": {
    "name": "ipython",
    "version": 3
   },
   "file_extension": ".py",
   "mimetype": "text/x-python",
   "name": "python",
   "nbconvert_exporter": "python",
   "pygments_lexer": "ipython3",
   "version": "3.6.4"
  }
 },
 "nbformat": 4,
 "nbformat_minor": 2
}
