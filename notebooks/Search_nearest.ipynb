{
 "cells": [
  {
   "cell_type": "markdown",
   "metadata": {},
   "source": [
    "## Utilitários de busca \n",
    "\n",
    "Neste notebook é apresentado a forma de uso dos utilitários de busca nas tabelas `Student` e `Distribuição normal`. A função apresentada será a `nearest_neighbors`."
   ]
  },
  {
   "cell_type": "code",
   "execution_count": 1,
   "metadata": {},
   "outputs": [],
   "source": [
    "import os\n",
    "os.chdir('..')\n",
    "\n",
    "from nancian.table import nearest_neighbors # Utilitário de busca na tabela normal"
   ]
  },
  {
   "cell_type": "markdown",
   "metadata": {},
   "source": [
    "### Busca na tabela de distribuição normal\n",
    "\n",
    "Veja abaixo o uso para encontrar dentro da tabela de distribuição normal o elemento mais próximo ao inserido."
   ]
  },
  {
   "cell_type": "markdown",
   "metadata": {},
   "source": [
    "1° - Para realizar a busca na tabela normal, basta inserir o elemento a ser pesquisado e o parâmetro `normal`, para indicar que a pesquisa deve ser feita na tabela normal.\n",
    "\n",
    "O retorno é um dicionário constituido de: \n",
    "* Column: Nome da coluna onde está o elemento encontrado;\n",
    "* Row: Linha onde está o elemento encontrado;\n",
    "* Distance: Distância entre o elemento inserido e o encontrado;\n",
    "* Neighbor: Valor do elemento encontrado.\n"
   ]
  },
  {
   "cell_type": "code",
   "execution_count": 3,
   "metadata": {
    "scrolled": true
   },
   "outputs": [
    {
     "data": {
      "text/plain": [
       "{'column': '0.01',\n",
       " 'distance': 0.00039999999999995595,\n",
       " 'neighbor': 0.4564,\n",
       " 'row': 19}"
      ]
     },
     "execution_count": 3,
     "metadata": {},
     "output_type": "execute_result"
    }
   ],
   "source": [
    "nearest_neighbors(0.456, 'normal')"
   ]
  },
  {
   "cell_type": "markdown",
   "metadata": {},
   "source": [
    "### Busca na tabela Student\n",
    "\n",
    "1° - Para realizar a busca na tabela `Student`, deve-se inserir o parâmetro `student`, para indicar que a pesquisa deve  ser feita na tabela Student. Além deste parâmetro deve ser passado também o tipo de teste que está sendo realizado, este podendo ser:\n",
    "* monocaudal; \n",
    "* bicaudal.\n",
    "\n",
    "O retorno é um dicionário constituido de: \n",
    "* Column: Nome da coluna onde está o elemento encontrado;\n",
    "* Row: Linha onde está o elemento encontrado;\n",
    "* Distance: Distância entre o elemento inserido e o encontrado;\n",
    "* Neighbor: Valor do elemento encontrado.\n"
   ]
  },
  {
   "cell_type": "markdown",
   "metadata": {},
   "source": [
    "Teste monocaudal"
   ]
  },
  {
   "cell_type": "code",
   "execution_count": 4,
   "metadata": {},
   "outputs": [
    {
     "data": {
      "text/plain": [
       "{'column': 0.05, 'distance': 0.0, 'neighbor': 1.74, 'row': 19}"
      ]
     },
     "execution_count": 4,
     "metadata": {},
     "output_type": "execute_result"
    }
   ],
   "source": [
    "nearest_neighbors(1.74, 'student', 'monocaudal')"
   ]
  },
  {
   "cell_type": "markdown",
   "metadata": {},
   "source": [
    "Teste bicaudal"
   ]
  },
  {
   "cell_type": "code",
   "execution_count": 5,
   "metadata": {},
   "outputs": [
    {
     "data": {
      "text/plain": [
       "{'column': 0.1, 'distance': 0.0, 'neighbor': 1.74, 'row': 19}"
      ]
     },
     "execution_count": 5,
     "metadata": {},
     "output_type": "execute_result"
    }
   ],
   "source": [
    "nearest_neighbors(1.74, 'student', 'bicaudal')"
   ]
  }
 ],
 "metadata": {
  "kernelspec": {
   "display_name": "Python 3",
   "language": "python",
   "name": "python3"
  },
  "language_info": {
   "codemirror_mode": {
    "name": "ipython",
    "version": 3
   },
   "file_extension": ".py",
   "mimetype": "text/x-python",
   "name": "python",
   "nbconvert_exporter": "python",
   "pygments_lexer": "ipython3",
   "version": "3.6.5"
  }
 },
 "nbformat": 4,
 "nbformat_minor": 2
}
