{
 "cells": [
  {
   "cell_type": "markdown",
   "metadata": {},
   "source": [
    "## Teste de hipótese\n",
    "\n",
    "O `nancian` tem algumas funções para facilitar o processo de testes de hipótese, utilizando distribuição normal ou distribuição Student.\n",
    "\n",
    "OBS: Para buscas facilitadas de dados nas tabelas, há uma função disponível, `nearest_neighbors`, um exemplo de uso desta está disponível no notebook `Search_nearest`.\n",
    "\n",
    "Veja alguns exemplos de utilização."
   ]
  },
  {
   "cell_type": "code",
   "execution_count": 2,
   "metadata": {},
   "outputs": [],
   "source": [
    "import os\n",
    "os.chdir('..')\n",
    "\n",
    "from nancian.hypothesis.test import HypothesisTest"
   ]
  },
  {
   "cell_type": "code",
   "execution_count": 3,
   "metadata": {},
   "outputs": [],
   "source": [
    "# Criando instância da classe\n",
    "h = HypothesisTest()"
   ]
  },
  {
   "cell_type": "markdown",
   "metadata": {},
   "source": [
    "Após realizar toda a abstração do exercício, é possível realizar o cálculo do teste Z (Ou T, demonstrado mais abaixo), assim evita-se problemas com os cálculos"
   ]
  },
  {
   "cell_type": "code",
   "execution_count": 5,
   "metadata": {},
   "outputs": [
    {
     "data": {
      "text/plain": [
       "5.656854249492386"
      ]
     },
     "execution_count": 5,
     "metadata": {},
     "output_type": "execute_result"
    }
   ],
   "source": [
    "# Estes são valores retirados do exemplo 2 do material de apoio da professora Nanci\n",
    "# Os parâmetros são: <Média amostral>, <Probabilidade da hipótese nula ocorrer>, <Sigma ou S>, <Quantidade de amostras>\n",
    "z = h.calc_z(0.87, 0.85, 0.01, 8)\n",
    "z"
   ]
  },
  {
   "cell_type": "markdown",
   "metadata": {},
   "source": [
    "Vendo que as hipóteses sempre estão afirmando H0, fez-se um método para verificar se este deve ou não ser rejeitado, sua utilização pode ser vista abaixo"
   ]
  },
  {
   "cell_type": "code",
   "execution_count": 6,
   "metadata": {},
   "outputs": [
    {
     "data": {
      "text/plain": [
       "'Rejeite Ho'"
      ]
     },
     "execution_count": 6,
     "metadata": {},
     "output_type": "execute_result"
    }
   ],
   "source": [
    "# Os parâmetros são: <tipo do teste>, <valor resultante de um teste>, <Área de rejeição esquerda>, <Lado da rejeição, caso esta seja monocaudal>, <Área de rejeição do lado esquerdo, precisa ser declarada somente no caso bicaudal>\n",
    "h.verify_hypothesis('bicaudal', z, -0.85, '', 0.85)"
   ]
  },
  {
   "cell_type": "markdown",
   "metadata": {},
   "source": [
    "Há também a possibilidade de realizar cálculos e verificações de T"
   ]
  },
  {
   "cell_type": "code",
   "execution_count": 9,
   "metadata": {},
   "outputs": [
    {
     "data": {
      "text/plain": [
       "-1.816207893141941"
      ]
     },
     "execution_count": 9,
     "metadata": {},
     "output_type": "execute_result"
    }
   ],
   "source": [
    "# Estes são valores retirados do exemplo 3 do material de apoio da professora Nanci\n",
    "# Os parâmetros são: <Média amostral>, <Probabilidade da hipótese nula ocorrer>, <S>, <Quantidade de amostras>\n",
    "t = h.calc_t(6.7, 6.8, 0.24, 19)\n",
    "t"
   ]
  },
  {
   "cell_type": "code",
   "execution_count": 10,
   "metadata": {},
   "outputs": [
    {
     "data": {
      "text/plain": [
       "'Aceite Ho'"
      ]
     },
     "execution_count": 10,
     "metadata": {},
     "output_type": "execute_result"
    }
   ],
   "source": [
    "h.verify_hypothesis('bicaudal', t, -2.101, '', 2.101)"
   ]
  },
  {
   "cell_type": "markdown",
   "metadata": {},
   "source": [
    "Caso seu teste seja monocaudal é possível realizar verificações deste tipo, veja:"
   ]
  },
  {
   "cell_type": "code",
   "execution_count": 12,
   "metadata": {},
   "outputs": [
    {
     "data": {
      "text/plain": [
       "'Rejeite Ho'"
      ]
     },
     "execution_count": 12,
     "metadata": {},
     "output_type": "execute_result"
    }
   ],
   "source": [
    "# Estes são valores retirados do exemplo 1 do material de apoio da professora Nanci\n",
    "# O left está para indicar que o teste é monocaudal esquerdo, caso seja direito utilize: right\n",
    "h.verify_hypothesis('monocaudal', -2.57, -2.33, 'left')"
   ]
  }
 ],
 "metadata": {
  "kernelspec": {
   "display_name": "Python 3",
   "language": "python",
   "name": "python3"
  },
  "language_info": {
   "codemirror_mode": {
    "name": "ipython",
    "version": 3
   },
   "file_extension": ".py",
   "mimetype": "text/x-python",
   "name": "python",
   "nbconvert_exporter": "python",
   "pygments_lexer": "ipython3",
   "version": "3.6.4"
  }
 },
 "nbformat": 4,
 "nbformat_minor": 2
}
