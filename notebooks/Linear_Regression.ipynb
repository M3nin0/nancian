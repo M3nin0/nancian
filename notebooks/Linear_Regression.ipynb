{
 "cells": [
  {
   "cell_type": "markdown",
   "metadata": {},
   "source": [
    "## Utilitários para o cálculo de regressão linear\n",
    "\n",
    "Abaixo é apresentado o módulo do `nancian` para a solução de exercícios de regressão linear"
   ]
  },
  {
   "cell_type": "code",
   "execution_count": 2,
   "metadata": {},
   "outputs": [],
   "source": [
    "import os\n",
    "import pandas as pd\n",
    "os.chdir('..')\n",
    "\n",
    "from nancian.table import table_five # Utilitário para gerar a tabela de cálculos\n",
    "from nancian.regression.correlation import Pearson # Classe para o cálculo da correlação de Pearson\n",
    "from nancian.regression.plot import plot_disp # Função para criar o diagrama de dispersão\n",
    "from nancian.regression.regression import Linear # Classe para o cálculo de regressão linear"
   ]
  },
  {
   "cell_type": "markdown",
   "metadata": {},
   "source": [
    "### Exemplo de utilização"
   ]
  },
  {
   "cell_type": "markdown",
   "metadata": {},
   "source": [
    "1° - Gerando a tabela com os valores que serão utilizados ao decorer dos cálculos.\n",
    "\n",
    "A função utilizada é a `table_five`, que recebe o X e o Y. A tabela gerada segue a mesma sequência que as apresentadas em sala, X, Y, XY, X², Y². Nesta os últimos valores de cada coluna representa o somatório da mesma."
   ]
  },
  {
   "cell_type": "code",
   "execution_count": 3,
   "metadata": {},
   "outputs": [
    {
     "data": {
      "text/html": [
       "<div>\n",
       "<style scoped>\n",
       "    .dataframe tbody tr th:only-of-type {\n",
       "        vertical-align: middle;\n",
       "    }\n",
       "\n",
       "    .dataframe tbody tr th {\n",
       "        vertical-align: top;\n",
       "    }\n",
       "\n",
       "    .dataframe thead th {\n",
       "        text-align: right;\n",
       "    }\n",
       "</style>\n",
       "<table border=\"1\" class=\"dataframe\">\n",
       "  <thead>\n",
       "    <tr style=\"text-align: right;\">\n",
       "      <th></th>\n",
       "      <th></th>\n",
       "      <th></th>\n",
       "      <th></th>\n",
       "      <th></th>\n",
       "    </tr>\n",
       "  </thead>\n",
       "  <tbody>\n",
       "    <tr>\n",
       "      <th>16</th>\n",
       "      <th>14</th>\n",
       "      <th>224</th>\n",
       "      <th>256</th>\n",
       "      <th>196</th>\n",
       "    </tr>\n",
       "    <tr>\n",
       "      <th>30</th>\n",
       "      <th>16</th>\n",
       "      <th>480</th>\n",
       "      <th>900</th>\n",
       "      <th>256</th>\n",
       "    </tr>\n",
       "    <tr>\n",
       "      <th>35</th>\n",
       "      <th>19</th>\n",
       "      <th>665</th>\n",
       "      <th>1225</th>\n",
       "      <th>361</th>\n",
       "    </tr>\n",
       "    <tr>\n",
       "      <th>70</th>\n",
       "      <th>30</th>\n",
       "      <th>2100</th>\n",
       "      <th>4900</th>\n",
       "      <th>900</th>\n",
       "    </tr>\n",
       "    <tr>\n",
       "      <th>90</th>\n",
       "      <th>31</th>\n",
       "      <th>2790</th>\n",
       "      <th>8100</th>\n",
       "      <th>961</th>\n",
       "    </tr>\n",
       "    <tr>\n",
       "      <th>120</th>\n",
       "      <th>33</th>\n",
       "      <th>3960</th>\n",
       "      <th>14400</th>\n",
       "      <th>1089</th>\n",
       "    </tr>\n",
       "    <tr>\n",
       "      <th>160</th>\n",
       "      <th>35</th>\n",
       "      <th>5600</th>\n",
       "      <th>25600</th>\n",
       "      <th>1225</th>\n",
       "    </tr>\n",
       "    <tr>\n",
       "      <th>237</th>\n",
       "      <th>43</th>\n",
       "      <th>10191</th>\n",
       "      <th>56169</th>\n",
       "      <th>1849</th>\n",
       "    </tr>\n",
       "    <tr>\n",
       "      <th>378</th>\n",
       "      <th>50</th>\n",
       "      <th>18900</th>\n",
       "      <th>142884</th>\n",
       "      <th>2500</th>\n",
       "    </tr>\n",
       "    <tr>\n",
       "      <th>1136</th>\n",
       "      <th>271</th>\n",
       "      <th>44910</th>\n",
       "      <th>254434</th>\n",
       "      <th>9337</th>\n",
       "    </tr>\n",
       "  </tbody>\n",
       "</table>\n",
       "</div>"
      ],
      "text/plain": [
       "Empty DataFrame\n",
       "Columns: []\n",
       "Index: [(16, 14, 224, 256, 196), (30, 16, 480, 900, 256), (35, 19, 665, 1225, 361), (70, 30, 2100, 4900, 900), (90, 31, 2790, 8100, 961), (120, 33, 3960, 14400, 1089), (160, 35, 5600, 25600, 1225), (237, 43, 10191, 56169, 1849), (378, 50, 18900, 142884, 2500), (1136, 271, 44910, 254434, 9337)]"
      ]
     },
     "execution_count": 3,
     "metadata": {},
     "output_type": "execute_result"
    }
   ],
   "source": [
    "x = [16, 30, 35, 70, 90, 120, 160, 237, 378]\n",
    "y = [14, 16, 19, 30, 31,  33,  35,  43,  50]\n",
    "\n",
    "tabled = table_five(x, y)\n",
    "pd.DataFrame([], [tabled.x, tabled.y, tabled.xy, tabled.s_x, tabled.s_y])"
   ]
  },
  {
   "cell_type": "markdown",
   "metadata": {},
   "source": [
    "2° - Gerar a equação geral da reta\n",
    "\n",
    "Para resolver este problema será utilizado a classe `Linear` que tem métodos para resolver problemas relacionados a regressão linear. Os valores utilizados como entrada são os gerados na tabela acima."
   ]
  },
  {
   "cell_type": "code",
   "execution_count": 4,
   "metadata": {},
   "outputs": [
    {
     "data": {
      "text/plain": [
       "'y = 0.1x+17.49'"
      ]
     },
     "execution_count": 4,
     "metadata": {},
     "output_type": "execute_result"
    }
   ],
   "source": [
    "l = Linear()\n",
    "\n",
    "l.equation_line(len(tabled.x) - 1, tabled.xy[-1], tabled.x[-1], tabled.y[-1], tabled.s_x[-1])"
   ]
  },
  {
   "cell_type": "markdown",
   "metadata": {},
   "source": [
    "3° - Após gerar a equação da reta, basta estimar o X."
   ]
  },
  {
   "cell_type": "code",
   "execution_count": 5,
   "metadata": {},
   "outputs": [
    {
     "data": {
      "text/plain": [
       "52.48888888888889"
      ]
     },
     "execution_count": 5,
     "metadata": {},
     "output_type": "execute_result"
    }
   ],
   "source": [
    "l.estimate_x(350)"
   ]
  },
  {
   "cell_type": "markdown",
   "metadata": {},
   "source": [
    "É possível também fazer o plot do `diagrama de dispersão`, veja: "
   ]
  },
  {
   "cell_type": "code",
   "execution_count": 6,
   "metadata": {},
   "outputs": [
    {
     "data": {
      "image/png": "[encoded data removed]",
      "text/plain": [
       "<matplotlib.figure.Figure at 0x7f2d3bf63780>"
      ]
     },
     "metadata": {},
     "output_type": "display_data"
    }
   ],
   "source": [
    "# A função lambda recebida é a equação da reta que deve ser exibida \n",
    "plot_disp(tabled.x[:-1], tabled.y[:-1], 'Eficiência nas agências', lambda x: 0.1 * x + 17.49)"
   ]
  },
  {
   "cell_type": "markdown",
   "metadata": {},
   "source": [
    "4° - Calculando a correlação de Pearson"
   ]
  },
  {
   "cell_type": "code",
   "execution_count": 7,
   "metadata": {},
   "outputs": [
    {
     "data": {
      "text/plain": [
       "0.9363080604950944"
      ]
     },
     "execution_count": 7,
     "metadata": {},
     "output_type": "execute_result"
    }
   ],
   "source": [
    "pearson = Pearson()\n",
    "pearson.correlation(len(tabled.x) - 1, tabled.xy[-1], tabled.x[-1], tabled.y[-1], tabled.s_x[-1], tabled.s_y[-1])"
   ]
  },
  {
   "cell_type": "code",
   "execution_count": null,
   "metadata": {},
   "outputs": [],
   "source": []
  }
 ],
 "metadata": {
  "kernelspec": {
   "display_name": "Python 3",
   "language": "python",
   "name": "python3"
  },
  "language_info": {
   "codemirror_mode": {
    "name": "ipython",
    "version": 3
   },
   "file_extension": ".py",
   "mimetype": "text/x-python",
   "name": "python",
   "nbconvert_exporter": "python",
   "pygments_lexer": "ipython3",
   "version": "3.6.4"
  }
 },
 "nbformat": 4,
 "nbformat_minor": 2
}
