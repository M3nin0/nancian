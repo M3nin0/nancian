{
 "cells": [
  {
   "cell_type": "markdown",
   "metadata": {},
   "source": [
    "## Utilitários para o cálculo de regressão linear\n",
    "\n",
    "Abaixo é apresentado o módulo do `nancian` para a solução de exercícios de regressão linear"
   ]
  },
  {
   "cell_type": "code",
   "execution_count": 1,
   "metadata": {},
   "outputs": [],
   "source": [
    "import os\n",
    "import pandas as pd\n",
    "os.chdir('..')\n",
    "\n",
    "from nancian.table import table_five # Utilitário para gerar a tabela de cálculos\n",
    "from nancian.regression.correlation import Pearson # Classe para o cálculo da correlação de Pearson\n",
    "from nancian.regression.plot import plot_disp # Função para criar o diagrama de dispersão\n",
    "from nancian.regression.regression import Linear # Classe para o cálculo de regressão linear"
   ]
  },
  {
   "cell_type": "markdown",
   "metadata": {},
   "source": [
    "### Exemplo de utilização"
   ]
  },
  {
   "cell_type": "markdown",
   "metadata": {},
   "source": [
    "1° - Gerando a tabela com os valores que serão utilizados ao decorer dos cálculos.\n",
    "\n",
    "A função utilizada é a `table_five`, que recebe o X e o Y. A tabela gerada segue a mesma sequência que as apresentadas em sala, X, Y, XY, X², Y². Nesta os últimos valores de cada coluna representa o somatório da mesma."
   ]
  },
  {
   "cell_type": "code",
   "execution_count": 2,
   "metadata": {},
   "outputs": [
    {
     "data": {
      "text/html": [
       "<div>\n",
       "<style scoped>\n",
       "    .dataframe tbody tr th:only-of-type {\n",
       "        vertical-align: middle;\n",
       "    }\n",
       "\n",
       "    .dataframe tbody tr th {\n",
       "        vertical-align: top;\n",
       "    }\n",
       "\n",
       "    .dataframe thead th {\n",
       "        text-align: right;\n",
       "    }\n",
       "</style>\n",
       "<table border=\"1\" class=\"dataframe\">\n",
       "  <thead>\n",
       "    <tr style=\"text-align: right;\">\n",
       "      <th></th>\n",
       "      <th></th>\n",
       "      <th></th>\n",
       "      <th></th>\n",
       "      <th></th>\n",
       "    </tr>\n",
       "  </thead>\n",
       "  <tbody>\n",
       "    <tr>\n",
       "      <th>1</th>\n",
       "      <th>28</th>\n",
       "      <th>28</th>\n",
       "      <th>1</th>\n",
       "      <th>784</th>\n",
       "    </tr>\n",
       "    <tr>\n",
       "      <th>2</th>\n",
       "      <th>19</th>\n",
       "      <th>38</th>\n",
       "      <th>4</th>\n",
       "      <th>361</th>\n",
       "    </tr>\n",
       "    <tr>\n",
       "      <th>3</th>\n",
       "      <th>14</th>\n",
       "      <th>42</th>\n",
       "      <th>9</th>\n",
       "      <th>196</th>\n",
       "    </tr>\n",
       "    <tr>\n",
       "      <th>4</th>\n",
       "      <th>12</th>\n",
       "      <th>48</th>\n",
       "      <th>16</th>\n",
       "      <th>144</th>\n",
       "    </tr>\n",
       "    <tr>\n",
       "      <th>5</th>\n",
       "      <th>13</th>\n",
       "      <th>65</th>\n",
       "      <th>25</th>\n",
       "      <th>169</th>\n",
       "    </tr>\n",
       "    <tr>\n",
       "      <th>6</th>\n",
       "      <th>7</th>\n",
       "      <th>42</th>\n",
       "      <th>36</th>\n",
       "      <th>49</th>\n",
       "    </tr>\n",
       "    <tr>\n",
       "      <th>21</th>\n",
       "      <th>93</th>\n",
       "      <th>263</th>\n",
       "      <th>91</th>\n",
       "      <th>1703</th>\n",
       "    </tr>\n",
       "  </tbody>\n",
       "</table>\n",
       "</div>"
      ],
      "text/plain": [
       "Empty DataFrame\n",
       "Columns: []\n",
       "Index: [(1, 28, 28, 1, 784), (2, 19, 38, 4, 361), (3, 14, 42, 9, 196), (4, 12, 48, 16, 144), (5, 13, 65, 25, 169), (6, 7, 42, 36, 49), (21, 93, 263, 91, 1703)]"
      ]
     },
     "execution_count": 2,
     "metadata": {},
     "output_type": "execute_result"
    }
   ],
   "source": [
    "tabled = table_five([1, 2, 3, 4, 5, 6], [28, 19, 14, 12, 13, 7])\n",
    "pd.DataFrame([], [tabled.x, tabled.y, tabled.xy, tabled.s_x, tabled.s_y])"
   ]
  },
  {
   "cell_type": "markdown",
   "metadata": {},
   "source": [
    "2° - Gerar a equação geral da reta\n",
    "\n",
    "Para resolver este problema será utilizado a classe `Linear` que tem métodos para resolver problemas relacionados a regressão linear. Os valores utilizados como entrada são os gerados na tabela acima."
   ]
  },
  {
   "cell_type": "code",
   "execution_count": 3,
   "metadata": {},
   "outputs": [
    {
     "data": {
      "text/plain": [
       "'y = -3.57x+28.0'"
      ]
     },
     "execution_count": 3,
     "metadata": {},
     "output_type": "execute_result"
    }
   ],
   "source": [
    "l = Linear()\n",
    "\n",
    "l.equation_line(len(tabled.x) - 1, tabled.xy[-1], tabled.x[-1], tabled.y[-1], tabled.s_x[-1])"
   ]
  },
  {
   "cell_type": "markdown",
   "metadata": {},
   "source": [
    "3° - Após gerar a equação da reta, basta estimar o X."
   ]
  },
  {
   "cell_type": "code",
   "execution_count": 4,
   "metadata": {},
   "outputs": [
    {
     "data": {
      "text/plain": [
       "3.0050000000000026"
      ]
     },
     "execution_count": 4,
     "metadata": {},
     "output_type": "execute_result"
    }
   ],
   "source": [
    "l.estimate_x(7)"
   ]
  },
  {
   "cell_type": "markdown",
   "metadata": {},
   "source": [
    "É possível também fazer o plot do `diagrama de dispersão`, veja: "
   ]
  },
  {
   "cell_type": "code",
   "execution_count": 5,
   "metadata": {},
   "outputs": [
    {
     "data": {
      "image/png": "[encoded data removed]",
      "text/plain": [
       "<matplotlib.figure.Figure at 0x7f51703e77b8>"
      ]
     },
     "metadata": {},
     "output_type": "display_data"
    }
   ],
   "source": [
    "# A função lambda recebida é a equação da reta que deve ser exibida \n",
    "\n",
    "plot_disp(tabled.x[:-1], tabled.y[:-1], 'Desmatamento de um estado, em 1000 km²', lambda x: -3.57 * x + 28)"
   ]
  }
 ],
 "metadata": {
  "kernelspec": {
   "display_name": "Python 3",
   "language": "python",
   "name": "python3"
  },
  "language_info": {
   "codemirror_mode": {
    "name": "ipython",
    "version": 3
   },
   "file_extension": ".py",
   "mimetype": "text/x-python",
   "name": "python",
   "nbconvert_exporter": "python",
   "pygments_lexer": "ipython3",
   "version": "3.6.4"
  }
 },
 "nbformat": 4,
 "nbformat_minor": 2
}
