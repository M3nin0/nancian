{
 "cells": [
  {
   "cell_type": "markdown",
   "metadata": {},
   "source": [
    "## Probabilidade\n",
    "\n",
    "O `nancian` tem funções para solucionar alguns problemas de probabilidade. Veja abaixo um demonstrativo de uso destas funções em exercícios passados em sala. "
   ]
  },
  {
   "cell_type": "code",
   "execution_count": 1,
   "metadata": {},
   "outputs": [],
   "source": [
    "source('../nancian/probability/probability.R');"
   ]
  },
  {
   "cell_type": "markdown",
   "metadata": {},
   "source": [
    "#### Probabilidade simples\n",
    "\n",
    "Esta é a demonstração de uso para probabilidades simples. \n",
    "\n",
    "Exercício exemplo:\n",
    "\n",
    "- Em um lote de 12 peças, 4 são defeituosos, sendo retirada uma peça aleatoriamente, calcule:\n",
    "    - A) A probabilidade dessa peça ser defeituosa.\n",
    "    - B) A probabilidade dessa peça não ser defeituosa\n",
    "    \n",
    "OBS: Os exercícios foram retirados da lista de exercícios da professora Nanci."
   ]
  },
  {
   "cell_type": "code",
   "execution_count": 5,
   "metadata": {},
   "outputs": [
    {
     "data": {
      "text/html": [
       "33.3333333333333"
      ],
      "text/latex": [
       "33.3333333333333"
      ],
      "text/markdown": [
       "33.3333333333333"
      ],
      "text/plain": [
       "[1] 33.33333"
      ]
     },
     "metadata": {},
     "output_type": "display_data"
    }
   ],
   "source": [
    "# Solução do A\n",
    "# Argumentos: número de possibilidades, espaço amostral\n",
    "prob_simple(4, 12); # O resultado já é em porcentagem"
   ]
  },
  {
   "cell_type": "code",
   "execution_count": 6,
   "metadata": {},
   "outputs": [
    {
     "data": {
      "text/html": [
       "66.6666666666667"
      ],
      "text/latex": [
       "66.6666666666667"
      ],
      "text/markdown": [
       "66.6666666666667"
      ],
      "text/plain": [
       "[1] 66.66667"
      ]
     },
     "metadata": {},
     "output_type": "display_data"
    }
   ],
   "source": [
    "# Solução do B\n",
    "prob_simple(8, 12);"
   ]
  },
  {
   "cell_type": "markdown",
   "metadata": {},
   "source": [
    "#### Teorema da soma\n",
    "\n",
    "Há também uma função para a solução de problemas que envolvam o teorema da soma\n",
    "\n",
    "Exercício exemplo: \n",
    "\n",
    "- Qual a probabilidade de se obter soma 7 ou soma 11 numa jogada com dois dados?"
   ]
  },
  {
   "cell_type": "code",
   "execution_count": 15,
   "metadata": {},
   "outputs": [
    {
     "data": {
      "text/html": [
       "22.2222222222222"
      ],
      "text/latex": [
       "22.2222222222222"
      ],
      "text/markdown": [
       "22.2222222222222"
      ],
      "text/plain": [
       "[1] 22.22222"
      ]
     },
     "metadata": {},
     "output_type": "display_data"
    }
   ],
   "source": [
    "# Argumentos: Probabilidade do evento A ocorrer, Probabilidade do evento B ocorrer, probabilidade dos eventos A e B ocorrer\n",
    "prob_sum(6/36, 2/36, 0);"
   ]
  },
  {
   "cell_type": "markdown",
   "metadata": {},
   "source": [
    "#### Teorema do produto\n",
    "\n",
    "Para a solução de exercícios que envolvam teorema dos produtos existem funções para a solução destes\n",
    "\n",
    "Exercício de exemplo:\n",
    "\n",
    "- Num baralho simples de 52 cartas, tiram-se duas cartas. Qual a probabilidade que ambas sejam de espada?"
   ]
  },
  {
   "cell_type": "code",
   "execution_count": 18,
   "metadata": {},
   "outputs": [
    {
     "data": {
      "text/html": [
       "5.88235294117647"
      ],
      "text/latex": [
       "5.88235294117647"
      ],
      "text/markdown": [
       "5.88235294117647"
      ],
      "text/plain": [
       "[1] 5.882353"
      ]
     },
     "metadata": {},
     "output_type": "display_data"
    }
   ],
   "source": [
    "# Argumentos: Probabilidade de ocorrer o evento A, Probabilidade de ocorrer o evento B\n",
    "prob_prod(13/52, 12/51);"
   ]
  },
  {
   "cell_type": "markdown",
   "metadata": {},
   "source": [
    "#### Teorema da soma e produtos\n",
    "\n",
    "Há ainda casos em que soma e produto deverão ser usadas juntas, para isso há uma função criada, esta demonstrada abaixo, esta subtrai as duas possibilidades (Soma e produto) e gera a probabilidade real de algum evento ocorrer, independente da parte que o resolver.\n",
    "\n",
    "Exercício exemplo:\n",
    "\n",
    "- A probabilidade de que Pedro resolva um problema é de 1/3 e a de que Paulo resolva é 1/4, se ambos tentarem independentemente resolver, qual a probabilidade de que o problema seja resolvido?"
   ]
  },
  {
   "cell_type": "code",
   "execution_count": 10,
   "metadata": {},
   "outputs": [
    {
     "data": {
      "text/html": [
       "50"
      ],
      "text/latex": [
       "50"
      ],
      "text/markdown": [
       "50"
      ],
      "text/plain": [
       "[1] 50"
      ]
     },
     "metadata": {},
     "output_type": "display_data"
    }
   ],
   "source": [
    "# Argumentos: Probabilidade do evento de soma ocorrer, Probabilidade do evento de produto ocorrer\n",
    "prob_solver(1/3, 1/4);"
   ]
  }
 ],
 "metadata": {
  "kernelspec": {
   "display_name": "R",
   "language": "R",
   "name": "ir"
  },
  "language_info": {
   "codemirror_mode": "r",
   "file_extension": ".r",
   "mimetype": "text/x-r-source",
   "name": "R",
   "pygments_lexer": "r",
   "version": "3.4.3"
  }
 },
 "nbformat": 4,
 "nbformat_minor": 2
}
