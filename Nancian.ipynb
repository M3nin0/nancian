{
 "cells": [
  {
   "cell_type": "markdown",
   "metadata": {},
   "source": [
    "## Nancian - Pacote para solução de problemas simples\n",
    "\n",
    "Este pacote resolve problemas básicos de estatística. Mesmo sendo escrito em R tenta fazer com que as funções prontas sejam pouco usadas, para que o aprendizado do autor seja completo."
   ]
  },
  {
   "cell_type": "code",
   "execution_count": 1,
   "metadata": {},
   "outputs": [],
   "source": [
    "source('nancian/R/central_tendency.R');\n",
    "source('nancian/R/frequency.R');"
   ]
  },
  {
   "cell_type": "markdown",
   "metadata": {},
   "source": [
    "### Lista 1 - Distribuição de frequência"
   ]
  },
  {
   "cell_type": "markdown",
   "metadata": {},
   "source": [
    "1 - Construir uma tabela de distribuição de frequências (frequência simples, frequência relativa absoluta, frequência acumulada e frequência acumulada relativa) para as medidas, em mm, do diâmetro de barras de metal, conforme dados do rol. A fonte é desconhecida."
   ]
  },
  {
   "cell_type": "code",
   "execution_count": 6,
   "metadata": {},
   "outputs": [],
   "source": [
    "arr = c(324, 326, 327, 328, 329, 324, 326, 327, 328, 329, 325, 326, 328, 328, 330, 326, 327, 328, 328, 330);"
   ]
  },
  {
   "cell_type": "code",
   "execution_count": 7,
   "metadata": {},
   "outputs": [
    {
     "data": {
      "text/html": [
       "<table>\n",
       "<thead><tr><th scope=col>i</th><th scope=col>elements</th><th scope=col>fi</th><th scope=col>Fi</th><th scope=col>fri</th><th scope=col>Fri</th></tr></thead>\n",
       "<tbody>\n",
       "\t<tr><td>1   </td><td>324 </td><td>2   </td><td> 2  </td><td>0.10</td><td>0.10</td></tr>\n",
       "\t<tr><td>2   </td><td>326 </td><td>1   </td><td> 3  </td><td>0.05</td><td>0.15</td></tr>\n",
       "\t<tr><td>3   </td><td>327 </td><td>4   </td><td> 7  </td><td>0.20</td><td>0.35</td></tr>\n",
       "\t<tr><td>4   </td><td>328 </td><td>3   </td><td>10  </td><td>0.15</td><td>0.50</td></tr>\n",
       "\t<tr><td>5   </td><td>329 </td><td>6   </td><td>16  </td><td>0.30</td><td>0.80</td></tr>\n",
       "\t<tr><td>6   </td><td>325 </td><td>2   </td><td>18  </td><td>0.10</td><td>0.90</td></tr>\n",
       "\t<tr><td>7   </td><td>330 </td><td>2   </td><td>20  </td><td>0.10</td><td>1.00</td></tr>\n",
       "</tbody>\n",
       "</table>\n"
      ],
      "text/latex": [
       "\\begin{tabular}{r|llllll}\n",
       " i & elements & fi & Fi & fri & Fri\\\\\n",
       "\\hline\n",
       "\t 1    & 324  & 2    &  2   & 0.10 & 0.10\\\\\n",
       "\t 2    & 326  & 1    &  3   & 0.05 & 0.15\\\\\n",
       "\t 3    & 327  & 4    &  7   & 0.20 & 0.35\\\\\n",
       "\t 4    & 328  & 3    & 10   & 0.15 & 0.50\\\\\n",
       "\t 5    & 329  & 6    & 16   & 0.30 & 0.80\\\\\n",
       "\t 6    & 325  & 2    & 18   & 0.10 & 0.90\\\\\n",
       "\t 7    & 330  & 2    & 20   & 0.10 & 1.00\\\\\n",
       "\\end{tabular}\n"
      ],
      "text/markdown": [
       "\n",
       "i | elements | fi | Fi | fri | Fri | \n",
       "|---|---|---|---|---|---|---|\n",
       "| 1    | 324  | 2    |  2   | 0.10 | 0.10 | \n",
       "| 2    | 326  | 1    |  3   | 0.05 | 0.15 | \n",
       "| 3    | 327  | 4    |  7   | 0.20 | 0.35 | \n",
       "| 4    | 328  | 3    | 10   | 0.15 | 0.50 | \n",
       "| 5    | 329  | 6    | 16   | 0.30 | 0.80 | \n",
       "| 6    | 325  | 2    | 18   | 0.10 | 0.90 | \n",
       "| 7    | 330  | 2    | 20   | 0.10 | 1.00 | \n",
       "\n",
       "\n"
      ],
      "text/plain": [
       "  i elements fi Fi fri  Fri \n",
       "1 1 324      2   2 0.10 0.10\n",
       "2 2 326      1   3 0.05 0.15\n",
       "3 3 327      4   7 0.20 0.35\n",
       "4 4 328      3  10 0.15 0.50\n",
       "5 5 329      6  16 0.30 0.80\n",
       "6 6 325      2  18 0.10 0.90\n",
       "7 7 330      2  20 0.10 1.00"
      ]
     },
     "metadata": {},
     "output_type": "display_data"
    }
   ],
   "source": [
    "frequency_distribuition(arr);"
   ]
  },
  {
   "cell_type": "code",
   "execution_count": null,
   "metadata": {},
   "outputs": [],
   "source": []
  }
 ],
 "metadata": {
  "kernelspec": {
   "display_name": "R",
   "language": "R",
   "name": "ir"
  },
  "language_info": {
   "codemirror_mode": "r",
   "file_extension": ".r",
   "mimetype": "text/x-r-source",
   "name": "R",
   "pygments_lexer": "r",
   "version": "3.4.3"
  }
 },
 "nbformat": 4,
 "nbformat_minor": 2
}
