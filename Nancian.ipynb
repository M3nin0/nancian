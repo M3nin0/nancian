{
 "cells": [
  {
   "cell_type": "markdown",
   "metadata": {},
   "source": [
    "## Nancian - Pacote para solução de problemas simples\n",
    "\n",
    "Este pacote resolve problemas básicos de estatística. Mesmo sendo escrito em R tenta fazer com que as funções prontas sejam pouco usadas, para que o aprendizado do autor seja completo."
   ]
  },
  {
   "cell_type": "code",
   "execution_count": 14,
   "metadata": {},
   "outputs": [],
   "source": [
    "source('nancian/R/central_tendency.R');\n",
    "source('nancian/R/frequency.R');"
   ]
  },
  {
   "cell_type": "markdown",
   "metadata": {},
   "source": [
    "#### LISTA 2 – Estatística - MEDIDAS DE DISTRIBUIÇÃO DE FREQUÊNCIAS"
   ]
  },
  {
   "cell_type": "markdown",
   "metadata": {},
   "source": [
    "1 -Se um estudante obtém as notas abaixo nas avaliações de uma disciplina, qual foi a\n",
    "sua média?"
   ]
  },
  {
   "cell_type": "code",
   "execution_count": 15,
   "metadata": {},
   "outputs": [],
   "source": [
    "arr = c(7.5 ,8 ,3.5 ,6 ,2.5 ,5.5 ,4);"
   ]
  },
  {
   "cell_type": "code",
   "execution_count": 16,
   "metadata": {},
   "outputs": [
    {
     "data": {
      "text/html": [
       "'Resultado: 5.28571428571429'"
      ],
      "text/latex": [
       "'Resultado: 5.28571428571429'"
      ],
      "text/markdown": [
       "'Resultado: 5.28571428571429'"
      ],
      "text/plain": [
       "[1] \"Resultado: 5.28571428571429\""
      ]
     },
     "metadata": {},
     "output_type": "display_data"
    }
   ],
   "source": [
    "r = x(arr); paste('Resultado:', r, sep=' ');"
   ]
  },
  {
   "cell_type": "markdown",
   "metadata": {},
   "source": [
    "2 - Encontre a média, a mediana e a moda dos dados abaixo.\n",
    "\n",
    "a) 2,3,5,4,5,2,5,7"
   ]
  },
  {
   "cell_type": "code",
   "execution_count": 17,
   "metadata": {},
   "outputs": [],
   "source": [
    "arr = c(2,3,5,4,5,2,5,7);"
   ]
  },
  {
   "cell_type": "code",
   "execution_count": 23,
   "metadata": {},
   "outputs": [
    {
     "data": {
      "text/html": [
       "<span style=white-space:pre-wrap>'X = 4.125 ; md =  4.5 ; mo =  5'</span>"
      ],
      "text/latex": [
       "'X = 4.125 ; md =  4.5 ; mo =  5'"
      ],
      "text/markdown": [
       "<span style=white-space:pre-wrap>'X = 4.125 ; md =  4.5 ; mo =  5'</span>"
      ],
      "text/plain": [
       "[1] \"X = 4.125 ; md =  4.5 ; mo =  5\""
      ]
     },
     "metadata": {},
     "output_type": "display_data"
    }
   ],
   "source": [
    "paste(paste('X =', x(arr), sep=' '), paste('md = ', md(arr), sep=' '), paste('mo = ', mo(arr), sep=' '), sep=' ; ');"
   ]
  }
 ],
 "metadata": {
  "kernelspec": {
   "display_name": "R",
   "language": "R",
   "name": "ir"
  },
  "language_info": {
   "codemirror_mode": "r",
   "file_extension": ".r",
   "mimetype": "text/x-r-source",
   "name": "R",
   "pygments_lexer": "r",
   "version": "3.4.3"
  }
 },
 "nbformat": 4,
 "nbformat_minor": 2
}
